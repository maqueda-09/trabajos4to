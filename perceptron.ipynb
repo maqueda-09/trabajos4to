{
  "nbformat": 4,
  "nbformat_minor": 0,
  "metadata": {
    "colab": {
      "provenance": [],
      "authorship_tag": "ABX9TyMHQiK9ZT3s+wWu2gm/6VIr",
      "include_colab_link": true
    },
    "kernelspec": {
      "name": "python3",
      "display_name": "Python 3"
    },
    "language_info": {
      "name": "python"
    }
  },
  "cells": [
    {
      "cell_type": "markdown",
      "metadata": {
        "id": "view-in-github",
        "colab_type": "text"
      },
      "source": [
        "<a href=\"https://colab.research.google.com/github/maqueda-09/trabajos4to/blob/main/perceptron.ipynb\" target=\"_parent\"><img src=\"https://colab.research.google.com/assets/colab-badge.svg\" alt=\"Open In Colab\"/></a>"
      ]
    },
    {
      "cell_type": "code",
      "execution_count": 5,
      "metadata": {
        "id": "V_4sFoj3ctt1"
      },
      "outputs": [],
      "source": [
        "#tp = taza de aprendizaje\n",
        "class Perceptron:\n",
        "    def __init__(self, pesos,sesgo, tp):\n",
        "        self.pesos = pesos\n",
        "        self.sesgo = sesgo\n",
        "        self.taza_de_aprendizaje = tp\n",
        "    def funcion_activacion(self,z):\n",
        "        if z>=0:\n",
        "            return 1\n",
        "        else:\n",
        "            return 0\n",
        "    def entrenamiento (self, x, y, epocas):\n",
        "        for epoca in range(epocas) :\n",
        "            for dato in x:\n",
        "                x1, x2 = dato [0], dato [1]\n",
        "                w1 = self.pesos[0]\n",
        "                w2 = self.pesos[1]\n",
        "                b = self.sesgo\n",
        "                z = x1*w1 + x2*w2 + b\n",
        "                y_pred = self.funcion_activacion(z)\n",
        "                i = x.index(dato)\n",
        "                y_real = y [i]\n",
        "                self.pesos[0]= w1 + self.taza_de_aprendizaje*(y_real-y_pred)*x1\n",
        "                self.pesos[1]= w2 + self.taza_de_aprendizaje*(y_real-y_pred)*x2\n",
        "                self.sesgo = b + self.taza_de_aprendizaje * (y_real--y_pred)\n",
        "                print (f\"dato{dato},prediccion {y_pred},pesos {self.pesos},sesgo {self.sesgo}\")\n",
        "        print(f\"Fin de la epoca {epoca}\")\n"
      ]
    },
    {
      "cell_type": "code",
      "source": [
        "x = [[1,1],[1,0],[0,1],[0,0]]\n",
        "y = [1,0,0,0]\n",
        "pesos = [2,3]\n",
        "sesgo = 4\n",
        "taza_de_aprendizaje = 0.1\n"
      ],
      "metadata": {
        "id": "1IxkzXZQd1Sg"
      },
      "execution_count": 6,
      "outputs": []
    },
    {
      "cell_type": "code",
      "source": [
        "p= Perceptron (pesos,sesgo,taza_de_aprendizaje)"
      ],
      "metadata": {
        "id": "xFlrF1nbd5fP"
      },
      "execution_count": 7,
      "outputs": []
    },
    {
      "cell_type": "code",
      "source": [
        "p.entrenamiento(x,y,20)"
      ],
      "metadata": {
        "colab": {
          "base_uri": "https://localhost:8080/"
        },
        "id": "Mc1ovyXDd980",
        "outputId": "778c0a43-851c-48f8-bb68-908e0971bf15"
      },
      "execution_count": 8,
      "outputs": [
        {
          "output_type": "stream",
          "name": "stdout",
          "text": [
            "dato[1, 1],prediccion 1,pesos [2.0, 3.0],sesgo 4.2\n",
            "dato[1, 0],prediccion 1,pesos [1.9, 3.0],sesgo 4.3\n",
            "dato[0, 1],prediccion 1,pesos [1.9, 2.9],sesgo 4.3999999999999995\n",
            "dato[0, 0],prediccion 1,pesos [1.9, 2.9],sesgo 4.499999999999999\n",
            "dato[1, 1],prediccion 1,pesos [1.9, 2.9],sesgo 4.699999999999999\n",
            "dato[1, 0],prediccion 1,pesos [1.7999999999999998, 2.9],sesgo 4.799999999999999\n",
            "dato[0, 1],prediccion 1,pesos [1.7999999999999998, 2.8],sesgo 4.899999999999999\n",
            "dato[0, 0],prediccion 1,pesos [1.7999999999999998, 2.8],sesgo 4.999999999999998\n",
            "dato[1, 1],prediccion 1,pesos [1.7999999999999998, 2.8],sesgo 5.199999999999998\n",
            "dato[1, 0],prediccion 1,pesos [1.6999999999999997, 2.8],sesgo 5.299999999999998\n",
            "dato[0, 1],prediccion 1,pesos [1.6999999999999997, 2.6999999999999997],sesgo 5.399999999999998\n",
            "dato[0, 0],prediccion 1,pesos [1.6999999999999997, 2.6999999999999997],sesgo 5.499999999999997\n",
            "dato[1, 1],prediccion 1,pesos [1.6999999999999997, 2.6999999999999997],sesgo 5.6999999999999975\n",
            "dato[1, 0],prediccion 1,pesos [1.5999999999999996, 2.6999999999999997],sesgo 5.799999999999997\n",
            "dato[0, 1],prediccion 1,pesos [1.5999999999999996, 2.5999999999999996],sesgo 5.899999999999997\n",
            "dato[0, 0],prediccion 1,pesos [1.5999999999999996, 2.5999999999999996],sesgo 5.9999999999999964\n",
            "dato[1, 1],prediccion 1,pesos [1.5999999999999996, 2.5999999999999996],sesgo 6.199999999999997\n",
            "dato[1, 0],prediccion 1,pesos [1.4999999999999996, 2.5999999999999996],sesgo 6.299999999999996\n",
            "dato[0, 1],prediccion 1,pesos [1.4999999999999996, 2.4999999999999996],sesgo 6.399999999999996\n",
            "dato[0, 0],prediccion 1,pesos [1.4999999999999996, 2.4999999999999996],sesgo 6.499999999999996\n",
            "dato[1, 1],prediccion 1,pesos [1.4999999999999996, 2.4999999999999996],sesgo 6.699999999999996\n",
            "dato[1, 0],prediccion 1,pesos [1.3999999999999995, 2.4999999999999996],sesgo 6.799999999999995\n",
            "dato[0, 1],prediccion 1,pesos [1.3999999999999995, 2.3999999999999995],sesgo 6.899999999999995\n",
            "dato[0, 0],prediccion 1,pesos [1.3999999999999995, 2.3999999999999995],sesgo 6.999999999999995\n",
            "dato[1, 1],prediccion 1,pesos [1.3999999999999995, 2.3999999999999995],sesgo 7.199999999999995\n",
            "dato[1, 0],prediccion 1,pesos [1.2999999999999994, 2.3999999999999995],sesgo 7.2999999999999945\n",
            "dato[0, 1],prediccion 1,pesos [1.2999999999999994, 2.2999999999999994],sesgo 7.399999999999994\n",
            "dato[0, 0],prediccion 1,pesos [1.2999999999999994, 2.2999999999999994],sesgo 7.499999999999994\n",
            "dato[1, 1],prediccion 1,pesos [1.2999999999999994, 2.2999999999999994],sesgo 7.699999999999994\n",
            "dato[1, 0],prediccion 1,pesos [1.1999999999999993, 2.2999999999999994],sesgo 7.799999999999994\n",
            "dato[0, 1],prediccion 1,pesos [1.1999999999999993, 2.1999999999999993],sesgo 7.899999999999993\n",
            "dato[0, 0],prediccion 1,pesos [1.1999999999999993, 2.1999999999999993],sesgo 7.999999999999993\n",
            "dato[1, 1],prediccion 1,pesos [1.1999999999999993, 2.1999999999999993],sesgo 8.199999999999992\n",
            "dato[1, 0],prediccion 1,pesos [1.0999999999999992, 2.1999999999999993],sesgo 8.299999999999992\n",
            "dato[0, 1],prediccion 1,pesos [1.0999999999999992, 2.099999999999999],sesgo 8.399999999999991\n",
            "dato[0, 0],prediccion 1,pesos [1.0999999999999992, 2.099999999999999],sesgo 8.499999999999991\n",
            "dato[1, 1],prediccion 1,pesos [1.0999999999999992, 2.099999999999999],sesgo 8.69999999999999\n",
            "dato[1, 0],prediccion 1,pesos [0.9999999999999992, 2.099999999999999],sesgo 8.79999999999999\n",
            "dato[0, 1],prediccion 1,pesos [0.9999999999999992, 1.9999999999999991],sesgo 8.89999999999999\n",
            "dato[0, 0],prediccion 1,pesos [0.9999999999999992, 1.9999999999999991],sesgo 8.99999999999999\n",
            "dato[1, 1],prediccion 1,pesos [0.9999999999999992, 1.9999999999999991],sesgo 9.199999999999989\n",
            "dato[1, 0],prediccion 1,pesos [0.8999999999999992, 1.9999999999999991],sesgo 9.299999999999988\n",
            "dato[0, 1],prediccion 1,pesos [0.8999999999999992, 1.899999999999999],sesgo 9.399999999999988\n",
            "dato[0, 0],prediccion 1,pesos [0.8999999999999992, 1.899999999999999],sesgo 9.499999999999988\n",
            "dato[1, 1],prediccion 1,pesos [0.8999999999999992, 1.899999999999999],sesgo 9.699999999999987\n",
            "dato[1, 0],prediccion 1,pesos [0.7999999999999993, 1.899999999999999],sesgo 9.799999999999986\n",
            "dato[0, 1],prediccion 1,pesos [0.7999999999999993, 1.799999999999999],sesgo 9.899999999999986\n",
            "dato[0, 0],prediccion 1,pesos [0.7999999999999993, 1.799999999999999],sesgo 9.999999999999986\n",
            "dato[1, 1],prediccion 1,pesos [0.7999999999999993, 1.799999999999999],sesgo 10.199999999999985\n",
            "dato[1, 0],prediccion 1,pesos [0.6999999999999993, 1.799999999999999],sesgo 10.299999999999985\n",
            "dato[0, 1],prediccion 1,pesos [0.6999999999999993, 1.6999999999999988],sesgo 10.399999999999984\n",
            "dato[0, 0],prediccion 1,pesos [0.6999999999999993, 1.6999999999999988],sesgo 10.499999999999984\n",
            "dato[1, 1],prediccion 1,pesos [0.6999999999999993, 1.6999999999999988],sesgo 10.699999999999983\n",
            "dato[1, 0],prediccion 1,pesos [0.5999999999999993, 1.6999999999999988],sesgo 10.799999999999983\n",
            "dato[0, 1],prediccion 1,pesos [0.5999999999999993, 1.5999999999999988],sesgo 10.899999999999983\n",
            "dato[0, 0],prediccion 1,pesos [0.5999999999999993, 1.5999999999999988],sesgo 10.999999999999982\n",
            "dato[1, 1],prediccion 1,pesos [0.5999999999999993, 1.5999999999999988],sesgo 11.199999999999982\n",
            "dato[1, 0],prediccion 1,pesos [0.49999999999999933, 1.5999999999999988],sesgo 11.299999999999981\n",
            "dato[0, 1],prediccion 1,pesos [0.49999999999999933, 1.4999999999999987],sesgo 11.39999999999998\n",
            "dato[0, 0],prediccion 1,pesos [0.49999999999999933, 1.4999999999999987],sesgo 11.49999999999998\n",
            "dato[1, 1],prediccion 1,pesos [0.49999999999999933, 1.4999999999999987],sesgo 11.69999999999998\n",
            "dato[1, 0],prediccion 1,pesos [0.39999999999999936, 1.4999999999999987],sesgo 11.79999999999998\n",
            "dato[0, 1],prediccion 1,pesos [0.39999999999999936, 1.3999999999999986],sesgo 11.899999999999979\n",
            "dato[0, 0],prediccion 1,pesos [0.39999999999999936, 1.3999999999999986],sesgo 11.999999999999979\n",
            "dato[1, 1],prediccion 1,pesos [0.39999999999999936, 1.3999999999999986],sesgo 12.199999999999978\n",
            "dato[1, 0],prediccion 1,pesos [0.2999999999999994, 1.3999999999999986],sesgo 12.299999999999978\n",
            "dato[0, 1],prediccion 1,pesos [0.2999999999999994, 1.2999999999999985],sesgo 12.399999999999977\n",
            "dato[0, 0],prediccion 1,pesos [0.2999999999999994, 1.2999999999999985],sesgo 12.499999999999977\n",
            "dato[1, 1],prediccion 1,pesos [0.2999999999999994, 1.2999999999999985],sesgo 12.699999999999976\n",
            "dato[1, 0],prediccion 1,pesos [0.19999999999999937, 1.2999999999999985],sesgo 12.799999999999976\n",
            "dato[0, 1],prediccion 1,pesos [0.19999999999999937, 1.1999999999999984],sesgo 12.899999999999975\n",
            "dato[0, 0],prediccion 1,pesos [0.19999999999999937, 1.1999999999999984],sesgo 12.999999999999975\n",
            "dato[1, 1],prediccion 1,pesos [0.19999999999999937, 1.1999999999999984],sesgo 13.199999999999974\n",
            "dato[1, 0],prediccion 1,pesos [0.09999999999999937, 1.1999999999999984],sesgo 13.299999999999974\n",
            "dato[0, 1],prediccion 1,pesos [0.09999999999999937, 1.0999999999999983],sesgo 13.399999999999974\n",
            "dato[0, 0],prediccion 1,pesos [0.09999999999999937, 1.0999999999999983],sesgo 13.499999999999973\n",
            "dato[1, 1],prediccion 1,pesos [0.09999999999999937, 1.0999999999999983],sesgo 13.699999999999973\n",
            "dato[1, 0],prediccion 1,pesos [-6.38378239159465e-16, 1.0999999999999983],sesgo 13.799999999999972\n",
            "dato[0, 1],prediccion 1,pesos [-6.38378239159465e-16, 0.9999999999999983],sesgo 13.899999999999972\n",
            "dato[0, 0],prediccion 1,pesos [-6.38378239159465e-16, 0.9999999999999983],sesgo 13.999999999999972\n",
            "Fin de la epoca 19\n"
          ]
        }
      ]
    }
  ]
}